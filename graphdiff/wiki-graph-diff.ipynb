{
 "cells": [
  {
   "cell_type": "markdown",
   "metadata": {},
   "source": [
    "# Compare Wikipedia dumps"
   ]
  },
  {
   "cell_type": "code",
   "execution_count": 38,
   "metadata": {},
   "outputs": [],
   "source": [
    "from pyspark.sql import SparkSession\n",
    "from pyspark.sql import SQLContext\n",
    "from matplotlib import pyplot as plt\n",
    "import numpy as np"
   ]
  },
  {
   "cell_type": "code",
   "execution_count": 10,
   "metadata": {},
   "outputs": [],
   "source": [
    "# path to Parquet files\n",
    "DATA_PATH = \"/mnt/data/wikipedia/dumps-pre-processed/\""
   ]
  },
  {
   "cell_type": "code",
   "execution_count": 17,
   "metadata": {},
   "outputs": [],
   "source": [
    "# initialise sparkContext\n",
    "spark = SparkSession.builder \\\n",
    "    .master('local') \\\n",
    "    .appName('myAppName') \\\n",
    "    .config('spark.executor.memory', '16gb') \\\n",
    "    .config(\"spark.cores.max\", \"*\") \\\n",
    "    .getOrCreate()\n",
    "\n",
    "sc = spark.sparkContext\n",
    "sqlContext = SQLContext(sc)"
   ]
  },
  {
   "cell_type": "code",
   "execution_count": 24,
   "metadata": {},
   "outputs": [],
   "source": [
    "# read pages and categories into a DF\n",
    "normal_pages_20190320_df = sqlContext.read.parquet(DATA_PATH + \"20190320/page/normal_pages/*\")\n",
    "category_pages_20190320_df = sqlContext.read.parquet(DATA_PATH + \"20190320/page/category_pages/*\")\n",
    "\n",
    "normal_pages_20190301_df = sqlContext.read.parquet(DATA_PATH + \"20190301/page/normal_pages/*\")\n",
    "category_pages_20190301_df = sqlContext.read.parquet(DATA_PATH + \"20190301/page/category_pages/*\")\n",
    "\n",
    "normal_pages_20180801_df = sqlContext.read.parquet(DATA_PATH + \"20180801/page/normal_pages/*\")\n",
    "category_pages_20180801_df = sqlContext.read.parquet(DATA_PATH + \"20180801/page/category_pages/*\")"
   ]
  },
  {
   "cell_type": "code",
   "execution_count": 29,
   "metadata": {},
   "outputs": [],
   "source": [
    "count_pages_20190320 = normal_pages_20190320_df.count()\n",
    "count_categories_20190320 = category_pages_20190320_df.count()\n",
    "\n",
    "count_pages_20190301 = normal_pages_20190301_df.count()\n",
    "count_categories_20190301 = category_pages_20190301_df.count()\n",
    "\n",
    "count_pages_20180801 = normal_pages_20180801_df.count()\n",
    "count_categories_20180801 = category_pages_20180801_df.count()"
   ]
  },
  {
   "cell_type": "code",
   "execution_count": 30,
   "metadata": {},
   "outputs": [
    {
     "name": "stdout",
     "output_type": "stream",
     "text": [
      "Number of normal pages for 20190320: 5828462\n",
      "Number of category pages for 20190320: 1810370\n",
      "Number of normal pages for 20190301: 5816996\n",
      "Number of category pages for 20190301: 1803414\n",
      "Number of normal pages for 20180801: 5690369\n",
      "Number of category pages for 20180801: 1726005\n"
     ]
    }
   ],
   "source": [
    "print(\"Number of normal pages for 20190320: \" + str(count_pages_20190320))\n",
    "print(\"Number of category pages for 20190320: \" + str(count_categories_20190320))\n",
    "\n",
    "print(\"Number of normal pages for 20190301: \" + str(count_pages_20190301))\n",
    "print(\"Number of category pages for 20190301: \" + str(count_categories_20190301))\n",
    "\n",
    "print(\"Number of normal pages for 20180801: \" + str(count_pages_20180801))\n",
    "print(\"Number of category pages for 20180801: \" + str(count_categories_20180801))"
   ]
  },
  {
   "cell_type": "code",
   "execution_count": 46,
   "metadata": {},
   "outputs": [
    {
     "data": {
      "text/plain": [
       "Text(0.5, 1.0, 'Pages')"
      ]
     },
     "execution_count": 46,
     "metadata": {},
     "output_type": "execute_result"
    },
    {
     "data": {
      "image/png": "[encoded data removed]",
      "text/plain": [
       "<Figure size 432x288 with 1 Axes>"
      ]
     },
     "metadata": {
      "needs_background": "light"
     },
     "output_type": "display_data"
    }
   ],
   "source": [
    "dates = ('20180801', '20190301', '20190320')\n",
    "y_pos = np.arange(len(dates))\n",
    "counts = [count_pages_20180801, count_pages_20190301, count_pages_20190320]\n",
    "\n",
    "plt.bar(y_pos, counts, align='center', alpha=0.5)\n",
    "plt.xticks(y_pos, dates)\n",
    "plt.ylabel('#Pages (log scale)')\n",
    "plt.yscale('log')\n",
    "plt.title('Pages')"
   ]
  },
  {
   "cell_type": "code",
   "execution_count": 48,
   "metadata": {},
   "outputs": [
    {
     "data": {
      "text/plain": [
       "Text(0.5, 1.0, 'Categories')"
      ]
     },
     "execution_count": 48,
     "metadata": {},
     "output_type": "execute_result"
    },
    {
     "data": {
      "image/png": "[encoded data removed]",
      "text/plain": [
       "<Figure size 432x288 with 1 Axes>"
      ]
     },
     "metadata": {
      "needs_background": "light"
     },
     "output_type": "display_data"
    }
   ],
   "source": [
    "counts = [count_categories_20180801, count_categories_20190301, count_categories_20190320]\n",
    "\n",
    "plt.bar(y_pos, counts, align='center', alpha=0.5)\n",
    "plt.xticks(y_pos, dates)\n",
    "plt.ylabel('#Categories (log scale)')\n",
    "plt.yscale('log')\n",
    "plt.title('Categories')"
   ]
  },
  {
   "cell_type": "code",
   "execution_count": 26,
   "metadata": {},
   "outputs": [],
   "source": [
    "# read links into a DF\n",
    "\n",
    "pagelinks_20190320_df = sqlContext.read.parquet(DATA_PATH + \"20190320/pagelinks/*\")\n",
    "categorylinks_20190320_df = sqlContext.read.parquet(DATA_PATH + \"20190320/categorylinks/*\")\n",
    "\n",
    "pagelinks_20190301_df = sqlContext.read.parquet(DATA_PATH + \"20190301/pagelinks/*\")\n",
    "categorylinks_20190301_df = sqlContext.read.parquet(DATA_PATH + \"20190301/categorylinks/*\")\n",
    "\n",
    "pagelinks_20180801_df = sqlContext.read.parquet(DATA_PATH + \"20180801/pagelinks/*\")\n",
    "categorylinks_20180801_df = sqlContext.read.parquet(DATA_PATH + \"20180801/categorylinks/*\")"
   ]
  },
  {
   "cell_type": "code",
   "execution_count": 31,
   "metadata": {},
   "outputs": [],
   "source": [
    "count_pagelinks_20190320 = pagelinks_20190320_df.count()\n",
    "count_categorylinks_20190320 = categorylinks_20190320_df.count()\n",
    "\n",
    "count_pagelinks_20190301 = pagelinks_20190301_df.count()\n",
    "count_categorylinks_20190301 = categorylinks_20190301_df.count()\n",
    "\n",
    "count_pagelinks_20180801 = pagelinks_20180801_df.count()\n",
    "count_categorylinks_20180801 = categorylinks_20180801_df.count()"
   ]
  },
  {
   "cell_type": "code",
   "execution_count": 32,
   "metadata": {},
   "outputs": [
    {
     "name": "stdout",
     "output_type": "stream",
     "text": [
      "Number of pagelinks for 20190320: 477578102\n",
      "Number of categorylinks for 20190320: 65261669\n",
      "Number of pagelinks for 20190301: 475679782\n",
      "Number of categorylinks for 20190301: 64774515\n",
      "Number of pagelinks for 20180801: 456564006\n",
      "Number of categorylinks for 20180801: 60555403\n"
     ]
    }
   ],
   "source": [
    "print(\"Number of pagelinks for 20190320: \" + str(count_pagelinks_20190320))\n",
    "print(\"Number of categorylinks for 20190320: \" + str(count_categorylinks_20190320))\n",
    "\n",
    "print(\"Number of pagelinks for 20190301: \" + str(count_pagelinks_20190301))\n",
    "print(\"Number of categorylinks for 20190301: \" + str(count_categorylinks_20190301))\n",
    "\n",
    "print(\"Number of pagelinks for 20180801: \" + str(count_pagelinks_20180801))\n",
    "print(\"Number of categorylinks for 20180801: \" + str(count_categorylinks_20180801))"
   ]
  },
  {
   "cell_type": "code",
   "execution_count": 50,
   "metadata": {},
   "outputs": [
    {
     "data": {
      "text/plain": [
       "Text(0.5, 1.0, 'Pagelinks')"
      ]
     },
     "execution_count": 50,
     "metadata": {},
     "output_type": "execute_result"
    },
    {
     "data": {
      "image/png": "[encoded data removed]",
      "text/plain": [
       "<Figure size 432x288 with 1 Axes>"
      ]
     },
     "metadata": {
      "needs_background": "light"
     },
     "output_type": "display_data"
    }
   ],
   "source": [
    "counts = [count_pagelinks_20180801, count_pagelinks_20190301, count_pagelinks_20190320]\n",
    "\n",
    "plt.bar(y_pos, counts, align='center', alpha=0.5)\n",
    "plt.xticks(y_pos, dates)\n",
    "plt.ylabel('#Pagelinks (log scale)')\n",
    "plt.yscale('log')\n",
    "plt.title('Pagelinks')"
   ]
  },
  {
   "cell_type": "code",
   "execution_count": 51,
   "metadata": {},
   "outputs": [
    {
     "data": {
      "text/plain": [
       "Text(0.5, 1.0, 'Categorylinks')"
      ]
     },
     "execution_count": 51,
     "metadata": {},
     "output_type": "execute_result"
    },
    {
     "data": {
      "image/png": "[encoded data removed]",
      "text/plain": [
       "<Figure size 432x288 with 1 Axes>"
      ]
     },
     "metadata": {
      "needs_background": "light"
     },
     "output_type": "display_data"
    }
   ],
   "source": [
    "counts = [count_categorylinks_20180801, count_categorylinks_20190301, count_categorylinks_20190320]\n",
    "\n",
    "plt.bar(y_pos, counts, align='center', alpha=0.5)\n",
    "plt.xticks(y_pos, dates)\n",
    "plt.ylabel('#Categorylinks (log scale)')\n",
    "plt.yscale('log')\n",
    "plt.title('Categorylinks')"
   ]
  },
  {
   "cell_type": "code",
   "execution_count": null,
   "metadata": {},
   "outputs": [],
   "source": []
  }
 ],
 "metadata": {
  "kernelspec": {
   "display_name": "Python 3",
   "language": "python",
   "name": "python3"
  },
  "language_info": {
   "codemirror_mode": {
    "name": "ipython",
    "version": 3
   },
   "file_extension": ".py",
   "mimetype": "text/x-python",
   "name": "python",
   "nbconvert_exporter": "python",
   "pygments_lexer": "ipython3",
   "version": "3.6.8"
  }
 },
 "nbformat": 4,
 "nbformat_minor": 2
}
